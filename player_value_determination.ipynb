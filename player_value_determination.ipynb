{
  "cells": [
    {
      "cell_type": "markdown",
      "id": "a9c25be0",
      "metadata": {
        "id": "a9c25be0"
      },
      "source": [
        "\n",
        "# Bidding Value Determination\n",
        "\n",
        "This Python Notebook aims to determine the bidding values for a free agent based off their previous seasons' performance using PyTorch. By analyzing a player's performance data, we can predict future performance and adjust bidding values accordingly. This approach ensures that bids reflect both historical performance and potential future contributions.\n"
      ]
    },
    {
      "cell_type": "markdown",
      "id": "16e94958",
      "metadata": {
        "id": "16e94958"
      },
      "source": [
        "\n",
        "## Data Loading and Preprocessing\n",
        "\n",
        "First, let's load the data from our CSV files and perform necessary preprocessing steps to prepare it for training with our AI model. We have two key datasets:\n",
        "- `submission_example.csv`: Contains the list of all free agents.\n",
        "- `batting_logs.csv`: Contains detailed performance data that we'll use to train our model.\n",
        "\n",
        "Let's begin by importing the necessary libraries and loading the data.\n"
      ]
    },
    {
      "cell_type": "code",
      "execution_count": 1,
      "id": "9a22f1fb",
      "metadata": {
        "colab": {
          "base_uri": "https://localhost:8080/"
        },
        "id": "9a22f1fb",
        "outputId": "00ed0f53-bdfa-46cb-c9c0-a244d5871228"
      },
      "outputs": [
        {
          "output_type": "stream",
          "name": "stdout",
          "text": [
            "              Name  Expected Number of Hits Next Season  Bid Amount($)\n",
            "0     Aaron Looper                                    1           0.75\n",
            "1    Adam Peterson                                    1           0.75\n",
            "2        Adam Wilk                                    1           0.75\n",
            "3    Adrian Houser                                    1           0.75\n",
            "4  Agustin Montero                                    1           0.75\n",
            "                 Name  age      team pos   PA   AB    H  2B  3B  HR  BB   SO  \\\n",
            "0  Abel De Los Santos   25      Cubs  1B  721  676  151  36  28   4  45  170   \n",
            "1    Adalberto Mendez   28  Phillies  LF  653  623  110  19  18   3  30  104   \n",
            "2      Adam Greenberg   28   Pirates  RF  579  514  144  29  21  12  65  112   \n",
            "3       Adam Peterson   21    Braves  1B  742  668  192  45  40  10  74  161   \n",
            "4        Adam Shabala   34  Mariners  SS  637  600  109  26  12  10  37  143   \n",
            "\n",
            "       P/PA        BA       OBP       SLG       OPS  Year  \n",
            "0  3.353675  0.223373  0.271845  0.377219  0.649064  2014  \n",
            "1  2.980092  0.176565  0.214395  0.279294  0.493689  2014  \n",
            "2  3.414508  0.280156  0.360967  0.488327  0.849294  2014  \n",
            "3  3.357143  0.287425  0.358491  0.519461  0.877952  2014  \n",
            "4  3.175824  0.181667  0.229199  0.315000  0.544199  2014  \n"
          ]
        }
      ],
      "source": [
        "\n",
        "import pandas as pd\n",
        "\n",
        "# Load data\n",
        "free_agents = pd.read_csv('/content/submission_example.csv')\n",
        "batting_logs = pd.read_csv('/content/batting_season_summary.csv')\n",
        "\n",
        "print(free_agents.head())\n",
        "print(batting_logs.head())\n"
      ]
    },
    {
      "cell_type": "markdown",
      "id": "a4fc5207",
      "metadata": {
        "id": "a4fc5207"
      },
      "source": [
        "\n",
        "### Feature Selection and Label Definition\n",
        "\n",
        "Based on our data analysis, we'll use the following columns from `batting_logs.csv` as features to train our AI model:\n",
        "\n",
        "- Age (`age`)\n",
        "- Position (`pos`)\n",
        "- Plate appearances (`PA`)\n",
        "- At-bats (`AB`)\n",
        "- Doubles (`2B`)\n",
        "- Triples (`3B`)\n",
        "- Home runs (`HR`)\n",
        "- Walks (`BB`)\n",
        "- Strikeouts (`SO`)\n",
        "- Plate appearances per pitch (`P/PA`)\n",
        "- Batting average (`BA`)\n",
        "- On-base percentage (`OBP`)\n",
        "- Slugging percentage (`SLG`)\n",
        "- On-base plus slugging (`OPS`)\n",
        "\n",
        "The label for our model will be:\n",
        "- Hits (`H`): This is a direct measure of a player's offensive success.\n",
        "\n",
        "Next, we will encode categorical variables, normalize numerical values, and split the dataset into training and validation sets.\n"
      ]
    },
    {
      "cell_type": "code",
      "execution_count": 2,
      "id": "c6d88ed3",
      "metadata": {
        "id": "c6d88ed3"
      },
      "outputs": [],
      "source": [
        "from sklearn.model_selection import train_test_split\n",
        "from sklearn.preprocessing import OneHotEncoder, StandardScaler\n",
        "from sklearn.compose import ColumnTransformer\n",
        "from sklearn.pipeline import Pipeline\n",
        "\n",
        "# Selecting features and label\n",
        "features = batting_logs[['age', 'pos', 'PA', 'AB', '2B', '3B', 'HR', 'BB', 'SO', 'P/PA', 'BA', 'OBP', 'SLG', 'OPS']]\n",
        "label = batting_logs['H']\n",
        "\n",
        "# Defining preprocessing steps\n",
        "categorical_features = ['pos']\n",
        "numerical_features = ['age', 'PA', 'AB', '2B', '3B', 'HR', 'BB', 'SO', 'P/PA', 'BA', 'OBP', 'SLG', 'OPS']\n",
        "\n",
        "# Create preprocessing pipelines\n",
        "preprocessor = ColumnTransformer(\n",
        "    transformers=[\n",
        "        ('num', StandardScaler(), numerical_features),\n",
        "        ('cat', OneHotEncoder(), categorical_features)\n",
        "    ]\n",
        ")\n",
        "\n",
        "# Split data into training and validation sets\n",
        "X_train, X_val, y_train, y_val = train_test_split(features, label, test_size=0.2, random_state=42)\n",
        "\n",
        "# Apply transformations\n",
        "X_train = preprocessor.fit_transform(X_train)\n",
        "X_val = preprocessor.transform(X_val)\n"
      ]
    },
    {
      "cell_type": "markdown",
      "id": "c910e031",
      "metadata": {
        "id": "c910e031"
      },
      "source": [
        "\n",
        "## Model Definition\n",
        "\n",
        "For our bidding value determination model, we'll use a simple neural network architecture since our dataset might not be overly complex. PyTorch will be used for defining and training the model. The model will consist of several fully connected layers with ReLU activation functions, and a final layer suited to regression since we're predicting a continuous value (the number of hits).\n"
      ]
    },
    {
      "cell_type": "code",
      "execution_count": 3,
      "id": "3c3c61e0",
      "metadata": {
        "id": "3c3c61e0"
      },
      "outputs": [],
      "source": [
        "import torch\n",
        "import torch.nn as nn\n",
        "import torch.optim as optim\n",
        "\n",
        "# Define the neural network architecture\n",
        "class BiddingValueNet(nn.Module):\n",
        "    def __init__(self, num_features):\n",
        "        super(BiddingValueNet, self).__init__()\n",
        "        self.fc1 = nn.Linear(num_features, 128)\n",
        "        self.relu = nn.ReLU()\n",
        "        self.fc2 = nn.Linear(128, 64)\n",
        "        self.fc3 = nn.Linear(64, 32)\n",
        "        self.fc4 = nn.Linear(32, 1) # Output layer for regression\n",
        "\n",
        "    def forward(self, x):\n",
        "        x = self.relu(self.fc1(x))\n",
        "        x = self.relu(self.fc2(x))\n",
        "        x = self.relu(self.fc3(x))\n",
        "        x = self.fc4(x)\n",
        "        return x\n",
        "\n",
        "# Determine the number of features after preprocessing\n",
        "num_features = X_train.shape[1]\n",
        "\n",
        "# Initialize the model\n",
        "model = BiddingValueNet(num_features)\n"
      ]
    },
    {
      "cell_type": "markdown",
      "id": "f259aa1a",
      "metadata": {
        "id": "f259aa1a"
      },
      "source": [
        "\n",
        "## Training the Model\n",
        "\n",
        "Now, let's train our model. We'll use Mean Squared Error (MSE) as the loss function since this is a regression problem, and the Adam optimizer for its efficiency.\n"
      ]
    },
    {
      "cell_type": "code",
      "execution_count": 58,
      "id": "2b215c9a",
      "metadata": {
        "colab": {
          "base_uri": "https://localhost:8080/"
        },
        "id": "2b215c9a",
        "outputId": "be22db54-1638-4aa3-aff5-6962e2995b4d"
      },
      "outputs": [
        {
          "output_type": "stream",
          "name": "stdout",
          "text": [
            "Epoch [10/1000], Loss: 5.9479\n",
            "Epoch [20/1000], Loss: 2.3657\n",
            "Epoch [30/1000], Loss: 0.8810\n",
            "Epoch [40/1000], Loss: 0.6127\n",
            "Epoch [50/1000], Loss: 0.5592\n",
            "Epoch [60/1000], Loss: 0.5230\n",
            "Epoch [70/1000], Loss: 0.4865\n",
            "Epoch [80/1000], Loss: 0.4661\n",
            "Epoch [90/1000], Loss: 0.4559\n",
            "Epoch [100/1000], Loss: 0.4429\n",
            "Epoch [110/1000], Loss: 0.4317\n",
            "Epoch [120/1000], Loss: 0.4202\n",
            "Epoch [130/1000], Loss: 0.4091\n",
            "Epoch [140/1000], Loss: 0.3982\n",
            "Epoch [150/1000], Loss: 0.3874\n",
            "Epoch [160/1000], Loss: 0.3769\n",
            "Epoch [170/1000], Loss: 0.3667\n",
            "Epoch [180/1000], Loss: 0.3568\n",
            "Epoch [190/1000], Loss: 0.3470\n",
            "Epoch [200/1000], Loss: 0.3375\n",
            "Epoch [210/1000], Loss: 0.3281\n",
            "Epoch [220/1000], Loss: 0.3190\n",
            "Epoch [230/1000], Loss: 0.3102\n",
            "Epoch [240/1000], Loss: 0.3016\n",
            "Epoch [250/1000], Loss: 0.2932\n",
            "Epoch [260/1000], Loss: 0.2850\n",
            "Epoch [270/1000], Loss: 0.2769\n",
            "Epoch [280/1000], Loss: 0.2691\n",
            "Epoch [290/1000], Loss: 0.2616\n",
            "Epoch [300/1000], Loss: 0.2544\n",
            "Epoch [310/1000], Loss: 0.2475\n",
            "Epoch [320/1000], Loss: 0.2409\n",
            "Epoch [330/1000], Loss: 0.2345\n",
            "Epoch [340/1000], Loss: 0.2283\n",
            "Epoch [350/1000], Loss: 0.2224\n",
            "Epoch [360/1000], Loss: 0.2167\n",
            "Epoch [370/1000], Loss: 0.2113\n",
            "Epoch [380/1000], Loss: 0.2060\n",
            "Epoch [390/1000], Loss: 0.2010\n",
            "Epoch [400/1000], Loss: 0.1961\n",
            "Epoch [410/1000], Loss: 0.1914\n",
            "Epoch [420/1000], Loss: 0.1868\n",
            "Epoch [430/1000], Loss: 0.1825\n",
            "Epoch [440/1000], Loss: 0.1783\n",
            "Epoch [450/1000], Loss: 0.1742\n",
            "Epoch [460/1000], Loss: 0.1703\n",
            "Epoch [470/1000], Loss: 0.1666\n",
            "Epoch [480/1000], Loss: 0.1630\n",
            "Epoch [490/1000], Loss: 0.1596\n",
            "Epoch [500/1000], Loss: 0.1562\n",
            "Epoch [510/1000], Loss: 0.1530\n",
            "Epoch [520/1000], Loss: 0.1499\n",
            "Epoch [530/1000], Loss: 0.1468\n",
            "Epoch [540/1000], Loss: 0.1439\n",
            "Epoch [550/1000], Loss: 0.1410\n",
            "Epoch [560/1000], Loss: 0.1382\n",
            "Epoch [570/1000], Loss: 0.1355\n",
            "Epoch [580/1000], Loss: 0.1328\n",
            "Epoch [590/1000], Loss: 0.1302\n",
            "Epoch [600/1000], Loss: 0.1277\n",
            "Epoch [610/1000], Loss: 0.1252\n",
            "Epoch [620/1000], Loss: 0.1228\n",
            "Epoch [630/1000], Loss: 0.1205\n",
            "Epoch [640/1000], Loss: 0.1183\n",
            "Epoch [650/1000], Loss: 0.1161\n",
            "Epoch [660/1000], Loss: 0.1139\n",
            "Epoch [670/1000], Loss: 0.1119\n",
            "Epoch [680/1000], Loss: 0.1099\n",
            "Epoch [690/1000], Loss: 0.1080\n",
            "Epoch [700/1000], Loss: 0.1061\n",
            "Epoch [710/1000], Loss: 0.1043\n",
            "Epoch [720/1000], Loss: 0.1026\n",
            "Epoch [730/1000], Loss: 0.1009\n",
            "Epoch [740/1000], Loss: 0.0993\n",
            "Epoch [750/1000], Loss: 0.0978\n",
            "Epoch [760/1000], Loss: 0.0962\n",
            "Epoch [770/1000], Loss: 0.0947\n",
            "Epoch [780/1000], Loss: 0.0933\n",
            "Epoch [790/1000], Loss: 0.0919\n",
            "Epoch [800/1000], Loss: 0.0905\n",
            "Epoch [810/1000], Loss: 0.0892\n",
            "Epoch [820/1000], Loss: 0.0879\n",
            "Epoch [830/1000], Loss: 0.0866\n",
            "Epoch [840/1000], Loss: 0.0854\n",
            "Epoch [850/1000], Loss: 0.0842\n",
            "Epoch [860/1000], Loss: 0.0830\n",
            "Epoch [870/1000], Loss: 0.0819\n",
            "Epoch [880/1000], Loss: 0.0808\n",
            "Epoch [890/1000], Loss: 0.0797\n",
            "Epoch [900/1000], Loss: 0.0786\n",
            "Epoch [910/1000], Loss: 0.0776\n",
            "Epoch [920/1000], Loss: 0.0765\n",
            "Epoch [930/1000], Loss: 0.0756\n",
            "Epoch [940/1000], Loss: 0.0746\n",
            "Epoch [950/1000], Loss: 0.0736\n",
            "Epoch [960/1000], Loss: 0.0727\n",
            "Epoch [970/1000], Loss: 0.0718\n",
            "Epoch [980/1000], Loss: 0.0709\n",
            "Epoch [990/1000], Loss: 0.0700\n",
            "Epoch [1000/1000], Loss: 0.0691\n"
          ]
        }
      ],
      "source": [
        "import numpy as np\n",
        "\n",
        "# Training parameters\n",
        "learning_rate = 0.001\n",
        "epochs = 1000\n",
        "\n",
        "# Loss function and optimizer\n",
        "criterion = nn.MSELoss()\n",
        "optimizer = optim.Adam(model.parameters(), lr=learning_rate)\n",
        "\n",
        "# Convert numpy arrays to torch tensors\n",
        "X_train_torch = torch.tensor(X_train.astype(np.float32))\n",
        "y_train_torch = torch.tensor(y_train.values.astype(np.float32))\n",
        "X_val_torch = torch.tensor(X_val.astype(np.float32))\n",
        "y_val_torch = torch.tensor(y_val.values.astype(np.float32))\n",
        "\n",
        "# Training loop\n",
        "for epoch in range(epochs):\n",
        "    # Forward pass: compute predicted y by passing x to the model\n",
        "    y_pred = model(X_train_torch)\n",
        "\n",
        "    # Compute and print loss\n",
        "    loss = criterion(y_pred, y_train_torch.view(-1, 1))\n",
        "    if (epoch+1) % 10 == 0:\n",
        "        print(f'Epoch [{epoch+1}/{epochs}], Loss: {loss.item():.4f}')\n",
        "\n",
        "    # Zero gradients, perform a backward pass, and update the weights\n",
        "    optimizer.zero_grad()\n",
        "    loss.backward()\n",
        "    optimizer.step()\n"
      ]
    },
    {
      "cell_type": "code",
      "execution_count": 59,
      "id": "29130f23",
      "metadata": {
        "colab": {
          "base_uri": "https://localhost:8080/"
        },
        "id": "29130f23",
        "outputId": "5ae7e467-0b62-4cda-e1b9-586c55f1a56b"
      },
      "outputs": [
        {
          "output_type": "stream",
          "name": "stdout",
          "text": [
            "Validation Loss: 0.2348\n"
          ]
        }
      ],
      "source": [
        "# Evaluate the model\n",
        "model.eval()\n",
        "with torch.no_grad():\n",
        "    y_pred_val = model(X_val_torch)\n",
        "    val_loss = criterion(y_pred_val, y_val_torch.view(-1, 1))\n",
        "    print(f'Validation Loss: {val_loss.item():.4f}')\n"
      ]
    },
    {
      "cell_type": "code",
      "source": [
        "import matplotlib.pyplot as plt\n",
        "\n",
        "def predict_second_half(player_name, model, preprocessor, num_features):\n",
        "    # Fetch player's historical data\n",
        "    player_data = batting_logs[batting_logs['Name'] == player_name]\n",
        "\n",
        "    if player_data.empty:\n",
        "        print(\"Player not found in the dataset.\")\n",
        "        return None\n",
        "\n",
        "    # Check if the player has enough data\n",
        "    if len(player_data) < 3:\n",
        "        print(f\"Player {player_name} does not have enough data to make reliable predictions.\")\n",
        "        return None\n",
        "\n",
        "\n",
        "    # Split the data into first and second half of the career\n",
        "    mid_point = len(player_data) // 2\n",
        "    first_half = player_data.iloc[:]\n",
        "    second_half = player_data.iloc[mid_point:]\n",
        "\n",
        "    # Predict hits for the second half using the first half data\n",
        "    first_half_years = first_half['Year'].values\n",
        "    first_half_hits = first_half['H'].values\n",
        "    second_half_years = second_half['Year'].values\n",
        "    predicted_second_half_hits = []\n",
        "\n",
        "    for _, row in second_half.iterrows():\n",
        "        # Select the current year's data\n",
        "        current_year_data = row.to_frame().T\n",
        "\n",
        "        # Preprocess the current year's data\n",
        "        current_year_data_preprocessed = preprocessor.transform(current_year_data[['age', 'pos', 'PA', 'AB', '2B', '3B', 'HR', 'BB', 'SO', 'P/PA', 'BA', 'OBP', 'SLG', 'OPS']])\n",
        "\n",
        "        # Check if the preprocessing results in the expected number of features\n",
        "        if current_year_data_preprocessed.shape[1] != num_features:\n",
        "            print(\"Unexpected number of features after preprocessing.\")\n",
        "            return None\n",
        "\n",
        "        # Convert to torch tensor\n",
        "        current_year_data_tensor = torch.tensor(current_year_data_preprocessed.astype(np.float32))\n",
        "\n",
        "        # Predict\n",
        "        model.eval()\n",
        "        with torch.no_grad():\n",
        "            predicted_hits = model(current_year_data_tensor).item()\n",
        "\n",
        "        predicted_second_half_hits.append(predicted_hits)\n",
        "\n",
        "    # Plot the actual and predicted hits\n",
        "    plt.figure(figsize=(12, 6))\n",
        "    plt.plot(first_half_years, first_half_hits, label='First Half (Actual)')\n",
        "    plt.plot(second_half_years, predicted_second_half_hits, label='Second Half (Predicted)')\n",
        "    plt.xlabel('Year')\n",
        "    plt.ylabel('Hits')\n",
        "    plt.title(f'{player_name} - Career Hits')\n",
        "    plt.legend()\n",
        "    plt.show()"
      ],
      "metadata": {
        "id": "TuLpvYirjFbO"
      },
      "id": "TuLpvYirjFbO",
      "execution_count": 60,
      "outputs": []
    },
    {
      "cell_type": "code",
      "source": [
        "def predict_next_year(player_name, model, preprocessor, num_features):\n",
        "    # Fetch player's historical data\n",
        "    player_data = batting_logs[batting_logs['Name'] == player_name]\n",
        "\n",
        "    if player_data.empty:\n",
        "        print(\"Player not found in the dataset.\")\n",
        "        return None\n",
        "\n",
        "    # Select the most recent year of data\n",
        "    player_data_latest = player_data[player_data['Year'] == player_data['Year'].max()]\n",
        "\n",
        "    # Preprocess the data\n",
        "    features = player_data_latest[['age', 'pos', 'PA', 'AB', '2B', '3B', 'HR', 'BB', 'SO', 'P/PA', 'BA', 'OBP', 'SLG', 'OPS']]\n",
        "    features_preprocessed = preprocessor.transform(features)\n",
        "\n",
        "    # Check if the preprocessing results in the expected number of features\n",
        "    if features_preprocessed.shape[1] != num_features:\n",
        "        print(\"Unexpected number of features after preprocessing.\")\n",
        "        return None\n",
        "\n",
        "    # Convert to torch tensor\n",
        "    features_tensor = torch.tensor(features_preprocessed.astype(np.float32))\n",
        "\n",
        "    # Predict\n",
        "    model.eval()\n",
        "    with torch.no_grad():\n",
        "        predicted_hits = model(features_tensor).item()\n",
        "\n",
        "    return predicted_hits"
      ],
      "metadata": {
        "id": "JogO9FqErF_r"
      },
      "id": "JogO9FqErF_r",
      "execution_count": 61,
      "outputs": []
    },
    {
      "cell_type": "code",
      "source": [
        "# Individual player\n",
        "player_name = \"Aaron Looper\"\n",
        "next_year_hits = predict_next_year(player_name, model, preprocessor, num_features)\n",
        "print(f\"Estimated number of hits for {player_name} next year: {next_year_hits:.0f}\")\n",
        "\n",
        "# # All players\n",
        "# for free_agent in free_agents['Name']:\n",
        "#   next_year_hits = predict_next_year(player_name, model, preprocessor, num_features)\n",
        "#   print(f\"Estimated number of hits for {player_name} next year: {next_year_hits:.0}\")"
      ],
      "metadata": {
        "colab": {
          "base_uri": "https://localhost:8080/"
        },
        "id": "_GQXYBMxrJBr",
        "outputId": "a60e6649-cb4c-4b00-8c30-e3346ada9d57"
      },
      "id": "_GQXYBMxrJBr",
      "execution_count": 63,
      "outputs": [
        {
          "output_type": "stream",
          "name": "stdout",
          "text": [
            "Estimated number of hits for Aaron Looper next year: 157\n"
          ]
        }
      ]
    },
    {
      "cell_type": "code",
      "source": [
        "# Individual player\n",
        "player_name = \"Aaron Looper\"\n",
        "predict_second_half(player_name, model, preprocessor, num_features)\n",
        "\n",
        "# # All players\n",
        "# for free_agent in free_agents['Name']:\n",
        "#   predict_second_half(free_agent, model, preprocessor, num_features)"
      ],
      "metadata": {
        "colab": {
          "base_uri": "https://localhost:8080/",
          "height": 564
        },
        "id": "ZJOxyXXnkSeL",
        "outputId": "7a80f93d-5cf4-40a6-f37d-d8de17a54a0e"
      },
      "id": "ZJOxyXXnkSeL",
      "execution_count": 64,
      "outputs": [
        {
          "output_type": "display_data",
          "data": {
            "text/plain": [
              "<Figure size 1200x600 with 1 Axes>"
            ],
            "image/png": "[encoded data removed]"
          },
          "metadata": {}
        }
      ]
    },
    {
      "cell_type": "code",
      "source": [
        "import csv\n",
        "\n",
        "headers = [\"Name\", \"Expected Number of Hits Next Season\", \"Bid Amount($)\"]\n",
        "\n",
        "with open('submission.csv', 'w', newline='') as csvfile:\n",
        "    writer = csv.writer(csvfile)\n",
        "    writer.writerow(headers)\n",
        "\n",
        "    for player_name in free_agents['Name']:\n",
        "        next_year_hits = predict_next_year(player_name, model, preprocessor, num_features)\n",
        "        row = [player_name, f\"{next_year_hits:.0f}\", 0.00]\n",
        "        writer.writerow(row)"
      ],
      "metadata": {
        "id": "56jFDgSmsjcR"
      },
      "id": "56jFDgSmsjcR",
      "execution_count": 55,
      "outputs": []
    }
  ],
  "metadata": {
    "colab": {
      "provenance": [],
      "gpuType": "T4"
    },
    "language_info": {
      "name": "python"
    },
    "kernelspec": {
      "name": "python3",
      "display_name": "Python 3"
    },
    "accelerator": "GPU"
  },
  "nbformat": 4,
  "nbformat_minor": 5
}